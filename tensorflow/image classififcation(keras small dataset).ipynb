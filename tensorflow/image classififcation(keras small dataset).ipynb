{
 "cells": [
  {
   "cell_type": "code",
   "execution_count": 1,
   "id": "e64ecede-b149-4703-86a4-67386e0cc25f",
   "metadata": {},
   "outputs": [
    {
     "data": {
      "text/plain": [
       "[PhysicalDevice(name='/physical_device:CPU:0', device_type='CPU')]"
      ]
     },
     "execution_count": 1,
     "metadata": {},
     "output_type": "execute_result"
    }
   ],
   "source": [
    "import tensorflow as tf\n",
    "from tensorflow import keras\n",
    "import numpy as np\n",
    "import matplotlib.pyplot as plt\n",
    "tf.config.experimental.list_physical_devices()"
   ]
  },
  {
   "cell_type": "code",
   "execution_count": 2,
   "id": "cfdd00e5-5796-475c-b477-501f4372db73",
   "metadata": {},
   "outputs": [],
   "source": [
    "# Load CIFAR-10 data\n",
    "(x_train, y_train), (x_test, y_test) = keras.datasets.cifar10.load_data()\n",
    "\n",
    "# Normalize pixel values to between 0 and 1\n",
    "x_train = x_train / 255.0\n",
    "x_test = x_test / 255.0\n",
    "\n",
    "# One-hot encode the labels\n",
    "y_train = keras.utils.to_categorical(y_train, num_classes=10, dtype='float32')\n",
    "y_test = keras.utils.to_categorical(y_test, num_classes=10, dtype='float32')"
   ]
  },
  {
   "cell_type": "code",
   "execution_count": null,
   "id": "47d62ce9-d08c-448d-831e-ab79239e134c",
   "metadata": {},
   "outputs": [
    {
     "name": "stdout",
     "output_type": "stream",
     "text": [
      "WARNING:tensorflow:From C:\\Users\\prith\\AppData\\Local\\Programs\\Python\\Python311\\Lib\\site-packages\\keras\\src\\backend.py:873: The name tf.get_default_graph is deprecated. Please use tf.compat.v1.get_default_graph instead.\n",
      "\n",
      "WARNING:tensorflow:From C:\\Users\\prith\\AppData\\Local\\Programs\\Python\\Python311\\Lib\\site-packages\\keras\\src\\optimizers\\__init__.py:309: The name tf.train.Optimizer is deprecated. Please use tf.compat.v1.train.Optimizer instead.\n",
      "\n",
      "Epoch 1/50\n",
      "WARNING:tensorflow:From C:\\Users\\prith\\AppData\\Local\\Programs\\Python\\Python311\\Lib\\site-packages\\keras\\src\\utils\\tf_utils.py:492: The name tf.ragged.RaggedTensorValue is deprecated. Please use tf.compat.v1.ragged.RaggedTensorValue instead.\n",
      "\n",
      "WARNING:tensorflow:From C:\\Users\\prith\\AppData\\Local\\Programs\\Python\\Python311\\Lib\\site-packages\\keras\\src\\engine\\base_layer_utils.py:384: The name tf.executing_eagerly_outside_functions is deprecated. Please use tf.compat.v1.executing_eagerly_outside_functions instead.\n",
      "\n",
      "1563/1563 [==============================] - 44s 27ms/step - loss: 1.8072 - accuracy: 0.3554\n",
      "Epoch 2/50\n",
      "1563/1563 [==============================] - 42s 27ms/step - loss: 1.6164 - accuracy: 0.4309\n",
      "Epoch 3/50\n",
      "1563/1563 [==============================] - 42s 27ms/step - loss: 1.5354 - accuracy: 0.4609\n",
      "Epoch 4/50\n",
      "1563/1563 [==============================] - 42s 27ms/step - loss: 1.4742 - accuracy: 0.4804\n",
      "Epoch 5/50\n",
      "1563/1563 [==============================] - 42s 27ms/step - loss: 1.4230 - accuracy: 0.5003\n",
      "Epoch 6/50\n",
      "1563/1563 [==============================] - 42s 27ms/step - loss: 1.3803 - accuracy: 0.5160\n",
      "Epoch 7/50\n",
      "1563/1563 [==============================] - 42s 27ms/step - loss: 1.3403 - accuracy: 0.5298\n",
      "Epoch 8/50\n",
      "1563/1563 [==============================] - 42s 27ms/step - loss: 1.3082 - accuracy: 0.5408\n",
      "Epoch 9/50\n",
      "1563/1563 [==============================] - 42s 27ms/step - loss: 1.2738 - accuracy: 0.5533\n",
      "Epoch 10/50\n",
      "1563/1563 [==============================] - 45s 29ms/step - loss: 1.2406 - accuracy: 0.5646\n",
      "Epoch 11/50\n",
      "1563/1563 [==============================] - 44s 28ms/step - loss: 1.2131 - accuracy: 0.5764\n",
      "Epoch 12/50\n",
      "1563/1563 [==============================] - 45s 29ms/step - loss: 1.1822 - accuracy: 0.5859\n",
      "Epoch 13/50\n",
      "1563/1563 [==============================] - 45s 28ms/step - loss: 1.1543 - accuracy: 0.5957\n",
      "Epoch 14/50\n",
      "1563/1563 [==============================] - 44s 28ms/step - loss: 1.1272 - accuracy: 0.6071\n",
      "Epoch 15/50\n",
      "1563/1563 [==============================] - 43s 27ms/step - loss: 1.0980 - accuracy: 0.6167\n",
      "Epoch 16/50\n",
      "1563/1563 [==============================] - 44s 28ms/step - loss: 1.0697 - accuracy: 0.6271\n",
      "Epoch 17/50\n",
      "1563/1563 [==============================] - 44s 28ms/step - loss: 1.0443 - accuracy: 0.6387\n",
      "Epoch 18/50\n",
      "1563/1563 [==============================] - 43s 28ms/step - loss: 1.0149 - accuracy: 0.6480\n",
      "Epoch 19/50\n",
      "1563/1563 [==============================] - 42s 27ms/step - loss: 0.9908 - accuracy: 0.6565\n",
      "Epoch 20/50\n",
      "1563/1563 [==============================] - 41s 27ms/step - loss: 0.9635 - accuracy: 0.6678\n",
      "Epoch 21/50\n",
      "1563/1563 [==============================] - 41s 26ms/step - loss: 0.9349 - accuracy: 0.6785\n",
      "Epoch 22/50\n",
      "1563/1563 [==============================] - 43s 27ms/step - loss: 0.9126 - accuracy: 0.6847\n",
      "Epoch 23/50\n",
      "1563/1563 [==============================] - 42s 27ms/step - loss: 0.8827 - accuracy: 0.6973\n",
      "Epoch 24/50\n",
      "1563/1563 [==============================] - 43s 28ms/step - loss: 0.8558 - accuracy: 0.7066\n",
      "Epoch 25/50\n",
      "1563/1563 [==============================] - 43s 27ms/step - loss: 0.8307 - accuracy: 0.7167\n",
      "Epoch 26/50\n",
      "1563/1563 [==============================] - 42s 27ms/step - loss: 0.8021 - accuracy: 0.7244\n",
      "Epoch 27/50\n",
      "1563/1563 [==============================] - 42s 27ms/step - loss: 0.7772 - accuracy: 0.7346\n",
      "Epoch 28/50\n",
      "1563/1563 [==============================] - 43s 27ms/step - loss: 0.7492 - accuracy: 0.7444\n",
      "Epoch 29/50\n",
      "1563/1563 [==============================] - 43s 27ms/step - loss: 0.7264 - accuracy: 0.7526\n",
      "Epoch 30/50\n",
      "1563/1563 [==============================] - 44s 28ms/step - loss: 0.6988 - accuracy: 0.7627\n",
      "Epoch 31/50\n",
      "1563/1563 [==============================] - 43s 27ms/step - loss: 0.6703 - accuracy: 0.7733\n",
      "Epoch 32/50\n",
      "1563/1563 [==============================] - 42s 27ms/step - loss: 0.6447 - accuracy: 0.7848\n",
      "Epoch 33/50\n",
      "1563/1563 [==============================] - 42s 27ms/step - loss: 0.6209 - accuracy: 0.7930\n",
      "Epoch 34/50\n",
      "1563/1563 [==============================] - 43s 27ms/step - loss: 0.5948 - accuracy: 0.8016\n",
      "Epoch 35/50\n",
      "1563/1563 [==============================] - 43s 27ms/step - loss: 0.5690 - accuracy: 0.8105\n",
      "Epoch 36/50\n",
      "1563/1563 [==============================] - 42s 27ms/step - loss: 0.5447 - accuracy: 0.8226\n",
      "Epoch 37/50\n",
      "1563/1563 [==============================] - 43s 27ms/step - loss: 0.5222 - accuracy: 0.8292\n",
      "Epoch 38/50\n",
      "1563/1563 [==============================] - 42s 27ms/step - loss: 0.4932 - accuracy: 0.8407\n",
      "Epoch 39/50\n",
      " 449/1563 [=======>......................] - ETA: 29s - loss: 0.4595 - accuracy: 0.8536"
     ]
    }
   ],
   "source": [
    "# Define the model architecture\n",
    "model = keras.Sequential([\n",
    "    keras.layers.Flatten(input_shape=(32, 32, 3)),\n",
    "    keras.layers.Dense(3000, activation='relu'),\n",
    "    keras.layers.Dense(3000, activation='relu'),\n",
    "    keras.layers.Dense(10, activation='sigmoid')\n",
    "])\n",
    "\n",
    "# Compile the model\n",
    "model.compile(optimizer='SGD',\n",
    "              loss='categorical_crossentropy',\n",
    "              metrics=['accuracy'])\n",
    "\n",
    "model.fit(x_train, y_train, epochs = 50)"
   ]
  },
  {
   "cell_type": "code",
   "execution_count": 3,
   "id": "c81716d2-7001-4dd7-a7ea-08a843ed8d2f",
   "metadata": {},
   "outputs": [
    {
     "name": "stdout",
     "output_type": "stream",
     "text": [
      "OrderedDict([('is_cuda_build', False), ('is_rocm_build', False), ('is_tensorrt_build', False), ('msvcp_dll_names', 'msvcp140.dll,msvcp140_1.dll')])\n"
     ]
    }
   ],
   "source": [
    "tf.test.is_built_with_cuda()\n",
    "import tensorflow as tf\n",
    "print(tf.sysconfig.get_build_info())\n"
   ]
  }
 ],
 "metadata": {
  "kernelspec": {
   "display_name": "Python 3 (ipykernel)",
   "language": "python",
   "name": "python3"
  },
  "language_info": {
   "codemirror_mode": {
    "name": "ipython",
    "version": 3
   },
   "file_extension": ".py",
   "mimetype": "text/x-python",
   "name": "python",
   "nbconvert_exporter": "python",
   "pygments_lexer": "ipython3",
   "version": "3.11.0"
  }
 },
 "nbformat": 4,
 "nbformat_minor": 5
}
