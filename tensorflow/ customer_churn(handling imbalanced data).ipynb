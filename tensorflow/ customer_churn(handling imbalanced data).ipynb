{
 "cells": [
  {
   "cell_type": "code",
   "execution_count": 2,
   "id": "816af75b-3db8-4470-9522-50775712e2bb",
   "metadata": {},
   "outputs": [
    {
     "name": "stderr",
     "output_type": "stream",
     "text": [
      "C:\\Users\\prith\\AppData\\Local\\Temp\\ipykernel_22016\\2409912225.py:32: FutureWarning: A value is trying to be set on a copy of a DataFrame or Series through chained assignment using an inplace method.\n",
      "The behavior will change in pandas 3.0. This inplace method will never work because the intermediate object on which we are setting values always behaves as a copy.\n",
      "\n",
      "For example, when doing 'df[col].method(value, inplace=True)', try using 'df.method({col: value}, inplace=True)' or df[col] = df[col].method(value) instead, to perform the operation inplace on the original object.\n",
      "\n",
      "\n",
      "  df[\"gender\"].replace({\"Female\" : 1, \"Male\" : 0}, inplace = True)\n",
      "C:\\Users\\prith\\AppData\\Local\\Temp\\ipykernel_22016\\2409912225.py:32: FutureWarning: Downcasting behavior in `replace` is deprecated and will be removed in a future version. To retain the old behavior, explicitly call `result.infer_objects(copy=False)`. To opt-in to the future behavior, set `pd.set_option('future.no_silent_downcasting', True)`\n",
      "  df[\"gender\"].replace({\"Female\" : 1, \"Male\" : 0}, inplace = True)\n",
      "C:\\Users\\prith\\AppData\\Local\\Temp\\ipykernel_22016\\2409912225.py:20: FutureWarning: elementwise comparison failed; returning scalar instead, but in the future will perform elementwise comparison\n",
      "  if len(unique_values) == 2 and 'Yes' in unique_values and 'No' in unique_values:\n",
      "C:\\Users\\prith\\AppData\\Local\\Temp\\ipykernel_22016\\2409912225.py:24: FutureWarning: A value is trying to be set on a copy of a DataFrame or Series through chained assignment using an inplace method.\n",
      "The behavior will change in pandas 3.0. This inplace method will never work because the intermediate object on which we are setting values always behaves as a copy.\n",
      "\n",
      "For example, when doing 'df[col].method(value, inplace=True)', try using 'df.method({col: value}, inplace=True)' or df[col] = df[col].method(value) instead, to perform the operation inplace on the original object.\n",
      "\n",
      "\n",
      "  df[x].replace({\n",
      "C:\\Users\\prith\\AppData\\Local\\Temp\\ipykernel_22016\\2409912225.py:24: FutureWarning: Downcasting behavior in `replace` is deprecated and will be removed in a future version. To retain the old behavior, explicitly call `result.infer_objects(copy=False)`. To opt-in to the future behavior, set `pd.set_option('future.no_silent_downcasting', True)`\n",
      "  df[x].replace({\n"
     ]
    }
   ],
   "source": [
    "import pandas as pd\n",
    "import tensorflow as tf\n",
    "from tensorflow import keras\n",
    "import numpy as np\n",
    "df = pd.read_csv(\"./customer_churn.csv\")\n",
    "df = df.drop([\"customerID\"], axis = \"columns\")\n",
    "df[\"TotalCharges\"] = pd.to_numeric(df[\"TotalCharges\"], errors = \"coerce\")\n",
    "df.dropna(subset = [\"TotalCharges\"], inplace = True)\n",
    "\n",
    "# for i in df:\n",
    "#     if df[i].dtype == \"object\":\n",
    "#         print(\"{}: {}\".format(i, df[i].unique()))\n",
    "\n",
    "def yes_no_encoding(df):\n",
    "    \n",
    "    yes_no_columns = []\n",
    "\n",
    "    for col in df:\n",
    "        unique_values = df[col].unique()\n",
    "        if len(unique_values) == 2 and 'Yes' in unique_values and 'No' in unique_values:\n",
    "            yes_no_columns.append(col)\n",
    "\n",
    "    for x in yes_no_columns:\n",
    "        df[x].replace({\n",
    "            \"Yes\":1,\n",
    "            \"No\": 0\n",
    "        }, inplace = True)\n",
    "\n",
    "    return df\n",
    "\n",
    "\n",
    "df[\"gender\"].replace({\"Female\" : 1, \"Male\" : 0}, inplace = True)\n",
    "df.replace([\"No internet service\", \"No phone service\"], \"No\", inplace = True)\n",
    "df = yes_no_encoding(df)\n",
    "\n",
    "df = pd.get_dummies(data = df, columns=[\"InternetService\", \"Contract\", \"PaymentMethod\"], dtype = int)\n",
    "            \n",
    "# Scaling values \n",
    "\n",
    "cols_to_be_scaled = [\"tenure\", \"MonthlyCharges\", \"TotalCharges\"]\n",
    "from sklearn.preprocessing import MinMaxScaler\n",
    "scaler = MinMaxScaler()\n",
    "df[cols_to_be_scaled] = scaler.fit_transform(df[cols_to_be_scaled])\n",
    "x = df.drop([\"Churn\"], axis = \"columns\")\n",
    "y = df[\"Churn\"]\n",
    "\n",
    "from sklearn.model_selection import train_test_split\n",
    "\n",
    "x_train, x_test, y_train, y_test = train_test_split(x, y, test_size=0.2)\n",
    "\n",
    "model = keras.Sequential([\n",
    "    keras.layers.Dense(len(x.columns), input_shape = (len(x.columns),), activation = \"relu\"),\n",
    "    keras.layers.Dense(20, activation = \"relu\"),\n",
    "    keras.layers.Dense(1, activation = \"sigmoid\")\n",
    "])\n",
    "\n",
    "# model.compile(optimizer=\"adam\", loss = \"mse\", metrics = [\"accuracy\"])\n",
    "model.compile(optimizer=\"adam\", loss = \"binary_crossentropy\", metrics = [\"accuracy\"])\n",
    "\n",
    "\n",
    "\n",
    "# model.evaluate(x_test, y_test)\n",
    "# y_test = np.array(y_test)\n",
    "# predict_sigmoid = model.predict(x_test)\n",
    "# predict = []\n",
    "# for i in predict_sigmoid:\n",
    "#     if i > 0.46:\n",
    "#         predict.append(1)\n",
    "#     else:\n",
    "#           predict.append(0)\n",
    "\n"
   ]
  },
  {
   "cell_type": "code",
   "execution_count": 3,
   "id": "da9a4124-85e3-43eb-8f04-f93b12ab81cd",
   "metadata": {},
   "outputs": [
    {
     "name": "stdout",
     "output_type": "stream",
     "text": [
      "Epoch 1/10\n",
      "220/220 [==============================] - 1s 2ms/step - loss: 0.4828 - accuracy: 0.7628\n",
      "Epoch 2/10\n",
      "220/220 [==============================] - 0s 1ms/step - loss: 0.4297 - accuracy: 0.7924\n",
      "Epoch 3/10\n",
      "220/220 [==============================] - 0s 2ms/step - loss: 0.4244 - accuracy: 0.7981\n",
      "Epoch 4/10\n",
      "220/220 [==============================] - 0s 1ms/step - loss: 0.4197 - accuracy: 0.8002\n",
      "Epoch 5/10\n",
      "220/220 [==============================] - 0s 1ms/step - loss: 0.4160 - accuracy: 0.8038\n",
      "Epoch 6/10\n",
      "220/220 [==============================] - 0s 1ms/step - loss: 0.4135 - accuracy: 0.8076\n",
      "Epoch 7/10\n",
      "220/220 [==============================] - 0s 1ms/step - loss: 0.4124 - accuracy: 0.8066\n",
      "Epoch 8/10\n",
      "220/220 [==============================] - 0s 1ms/step - loss: 0.4099 - accuracy: 0.8093\n",
      "Epoch 9/10\n",
      "220/220 [==============================] - 0s 1ms/step - loss: 0.4087 - accuracy: 0.8110\n",
      "Epoch 10/10\n",
      "220/220 [==============================] - 0s 2ms/step - loss: 0.4068 - accuracy: 0.8111\n"
     ]
    },
    {
     "data": {
      "text/plain": [
       "<keras.callbacks.History at 0x1f320e001d0>"
      ]
     },
     "execution_count": 3,
     "metadata": {},
     "output_type": "execute_result"
    }
   ],
   "source": [
    "model.fit(x, y, epochs = 10)"
   ]
  },
  {
   "cell_type": "code",
   "execution_count": 13,
   "id": "3d46d73e-e96e-4170-abfc-d4680057b2a9",
   "metadata": {},
   "outputs": [
    {
     "name": "stdout",
     "output_type": "stream",
     "text": [
      "44/44 [==============================] - 0s 2ms/step\n",
      "F1 Score: 0.5906902086677368\n"
     ]
    }
   ],
   "source": [
    "# Handling imbalanced data (Under Sampling Method)\n",
    "\n",
    "cc0 = df[df[\"Churn\"] == 0]\n",
    "cc1 = df[df[\"Churn\"] == 1]\n",
    "cc1.shape\n"
   ]
  }
 ],
 "metadata": {
  "kernelspec": {
   "display_name": "Python 3 (ipykernel)",
   "language": "python",
   "name": "python3"
  },
  "language_info": {
   "codemirror_mode": {
    "name": "ipython",
    "version": 3
   },
   "file_extension": ".py",
   "mimetype": "text/x-python",
   "name": "python",
   "nbconvert_exporter": "python",
   "pygments_lexer": "ipython3",
   "version": "3.11.0"
  }
 },
 "nbformat": 4,
 "nbformat_minor": 5
}
