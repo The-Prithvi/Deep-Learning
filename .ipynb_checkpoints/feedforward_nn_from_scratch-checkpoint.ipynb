{
 "cells": [
  {
   "cell_type": "code",
   "execution_count": 14,
   "id": "df5f37ab-25ed-4a95-bdd2-898d2f8f4caf",
   "metadata": {},
   "outputs": [
    {
     "name": "stdout",
     "output_type": "stream",
     "text": [
      "1\n",
      "1\n",
      "1\n",
      "1\n"
     ]
    }
   ],
   "source": [
    "import numpy as np\n",
    "\n",
    "def sigmoid(x):\n",
    "    return 1/1+np.exp(-x)\n",
    "\n",
    "input = 2\n",
    "hidden = 3\n",
    "output = 1\n",
    "\n",
    "w_to_hidden = np.random.randn(input, hidden)\n",
    "b_to_hidden = np.random.randn(1, hidden)\n",
    "w_to_output = np.random.randn(hidden, output)\n",
    "b_to_output = np.random.randn(1, output)\n",
    "\n",
    "def feedforward(inputs):\n",
    "    weighted_sum_hidden = np.dot(inputs, w_to_hidden) + b_to_hidden\n",
    "    activation_hidden = sigmoid(weighted_sum_hidden)\n",
    "    weighted_sum_output = np.dot(activation_hidden, w_to_output) + b_to_output\n",
    "    return weighted_sum_hidden\n",
    "\n",
    "inputs = np.array([[0,0], [0,1], [1,0], [1,1]])\n",
    "predict = feedforward(inputs)\n",
    "print(np.argmax(predict[0]))    \n",
    "print(np.argmax(predict[1]))    \n",
    "print(np.argmax(predict[2]))    \n",
    "print(np.argmax(predict[3]))    "
   ]
  },
  {
   "cell_type": "code",
   "execution_count": null,
   "id": "ef85cb38-e7d1-488d-8be8-913a6066bcb9",
   "metadata": {},
   "outputs": [],
   "source": []
  }
 ],
 "metadata": {
  "kernelspec": {
   "display_name": "Python 3 (ipykernel)",
   "language": "python",
   "name": "python3"
  },
  "language_info": {
   "codemirror_mode": {
    "name": "ipython",
    "version": 3
   },
   "file_extension": ".py",
   "mimetype": "text/x-python",
   "name": "python",
   "nbconvert_exporter": "python",
   "pygments_lexer": "ipython3",
   "version": "3.11.7"
  }
 },
 "nbformat": 4,
 "nbformat_minor": 5
}
