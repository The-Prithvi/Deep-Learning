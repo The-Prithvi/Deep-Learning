{
 "cells": [
  {
   "cell_type": "code",
   "execution_count": 26,
   "id": "4465738b-8f76-474b-ab75-5a249de8f60b",
   "metadata": {},
   "outputs": [],
   "source": [
    "import numpy as np\n",
    "\n",
    "data = {\n",
    "    'Age': [28, 55, 17, 73, 39, 61, 42, 81, 22, 58, 15, 66, 34, 79, 25, 52, 19, 69, 37, 85],\n",
    "    'Income (Rupees)': [2052744, 4425240, 0, 6248820, 2709792, 3806776, 3206400, 4155392, 825600, 5850240, 0, 3744960, 2628480, 3120000, 1056000, 3648000, 0, 5184000, 2179200, 2400000],\n",
    "    'Has Life Insurance': [1, 1, 0, 1, 0, 1, 1, 1, 0, 0, 0, 1, 0, 1, 0, 1, 1, 0, 1, 0]\n",
    "       }\n",
    "x = np.array([[data[\"Age\"], data[\"Income (Rupees)\"]]])\n",
    "y = np.array(data[\"Has Life Insurance\"]).reshape(-1, 1)"
   ]
  },
  {
   "cell_type": "code",
   "execution_count": 27,
   "id": "c8144e0a-9b42-4424-90b1-0fd9ecf484e2",
   "metadata": {},
   "outputs": [
    {
     "ename": "ValueError",
     "evalue": "shapes (1,2,20) and (2,4) not aligned: 20 (dim 2) != 2 (dim 0)",
     "output_type": "error",
     "traceback": [
      "\u001b[1;31m---------------------------------------------------------------------------\u001b[0m",
      "\u001b[1;31mValueError\u001b[0m                                Traceback (most recent call last)",
      "Cell \u001b[1;32mIn[27], line 20\u001b[0m\n\u001b[0;32m     15\u001b[0m w_output \u001b[38;5;241m=\u001b[39m np\u001b[38;5;241m.\u001b[39mrandom\u001b[38;5;241m.\u001b[39muniform(size \u001b[38;5;241m=\u001b[39m (hidden, output))\n\u001b[0;32m     18\u001b[0m \u001b[38;5;28;01mfor\u001b[39;00m i \u001b[38;5;129;01min\u001b[39;00m \u001b[38;5;28mrange\u001b[39m(epochs):\n\u001b[0;32m     19\u001b[0m     \u001b[38;5;66;03m# forward pass\u001b[39;00m\n\u001b[1;32m---> 20\u001b[0m     input_hidden \u001b[38;5;241m=\u001b[39m \u001b[43mnp\u001b[49m\u001b[38;5;241;43m.\u001b[39;49m\u001b[43mdot\u001b[49m\u001b[43m(\u001b[49m\u001b[43mx\u001b[49m\u001b[43m,\u001b[49m\u001b[43m \u001b[49m\u001b[43mw_hidden\u001b[49m\u001b[43m)\u001b[49m\n\u001b[0;32m     21\u001b[0m     output_hidden \u001b[38;5;241m=\u001b[39m sigmoid(input_hidden)\n\u001b[0;32m     22\u001b[0m     input_output \u001b[38;5;241m=\u001b[39m np\u001b[38;5;241m.\u001b[39mdot(input_hidden, w_ouput)\n",
      "\u001b[1;31mValueError\u001b[0m: shapes (1,2,20) and (2,4) not aligned: 20 (dim 2) != 2 (dim 0)"
     ]
    }
   ],
   "source": [
    "def sigmoid(x):\n",
    "    return 1/1+np.exp(-x)\n",
    "    \n",
    "def sigmoid_derivative(x):\n",
    "    return x*(1-x)\n",
    "\n",
    "input = 2\n",
    "hidden = 4\n",
    "output = 1\n",
    "learning_rate = 0.1\n",
    "epochs = 1000\n",
    "\n",
    "\n",
    "w_hidden = np.random.uniform(size = (input, hidden))\n",
    "w_output = np.random.uniform(size = (hidden, output))\n",
    "\n",
    "\n",
    "for i in range(epochs):\n",
    "    # forward pass\n",
    "    input_hidden = np.dot(x, w_hidden)\n",
    "    output_hidden = sigmoid(input_hidden)\n",
    "    input_output = np.dot(input_hidden, w_ouput)\n",
    "    predicted_output = sigmoid(input_hidden)\n",
    "    \n",
    "    # back prpagation\n",
    "    error = y - predicted_output\n",
    "        \n",
    "    # making derivative of the error with respect to the predicted output.(This derivative represents the gradient of the error with respect to the output of the neural network)\n",
    "    d_predective_output = error * sigmoid_derivative(predicted_output) \n",
    "    \n",
    "    error_hidden_layer = d_predective_output.dot(w_ouput.T)\n",
    "    # This allows us to propagate the error backwards through the network.\n",
    "    \n",
    "    d_hidden_layer = error_hidden_layer * sigmoid_derivative(output_hidden)\n",
    "    \n",
    "    # updating weights\n",
    "    # This line updates the weights between the hidden layer and the output layer.\n",
    "    w_output += output_hidden.T.dot(d_predective_output) * learning_rate\n",
    "    \n",
    "    # this line updates the weights between the input layer and the hidden layer \n",
    "    w_hidden += x.T.dot(d_hidden_layer) * learning_rate\n",
    "\n",
    "\n",
    "x_test = np.array[[17, 0], [58, 580000], [32, 450000]]\n",
    "input_hidden = np.dot(x_test, w_hidden)\n",
    "output_hidden = sigmoid(input_hidden)\n",
    "input_output = np.dot(input_hidden, w_ouput)\n",
    "predicted_output = sigmoid(input_hidden)\n",
    "print(predicted_output)\n"
   ]
  }
 ],
 "metadata": {
  "kernelspec": {
   "display_name": "Python 3 (ipykernel)",
   "language": "python",
   "name": "python3"
  },
  "language_info": {
   "codemirror_mode": {
    "name": "ipython",
    "version": 3
   },
   "file_extension": ".py",
   "mimetype": "text/x-python",
   "name": "python",
   "nbconvert_exporter": "python",
   "pygments_lexer": "ipython3",
   "version": "3.11.7"
  }
 },
 "nbformat": 4,
 "nbformat_minor": 5
}
